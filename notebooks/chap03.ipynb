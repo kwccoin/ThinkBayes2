{
  "cells": [
    {
      "cell_type": "markdown",
      "metadata": {
        "id": "view-in-github",
        "colab_type": "text"
      },
      "source": [
        "<a href=\"https://colab.research.google.com/github/kwccoin/ThinkBayes2/blob/master/notebooks/chap03.ipynb\" target=\"_parent\"><img src=\"https://colab.research.google.com/assets/colab-badge.svg\" alt=\"Open In Colab\"/></a>"
      ]
    },
    {
      "cell_type": "markdown",
      "metadata": {
        "id": "NOYMYrnkN5Tp"
      },
      "source": [
        "# Distributions"
      ]
    },
    {
      "cell_type": "markdown",
      "metadata": {
        "tags": [],
        "id": "bgbGouvLN5Tr"
      },
      "source": [
        "Think Bayes, Second Edition\n",
        "\n",
        "Copyright 2020 Allen B. Downey\n",
        "\n",
        "License: [Attribution-NonCommercial-ShareAlike 4.0 International (CC BY-NC-SA 4.0)](https://creativecommons.org/licenses/by-nc-sa/4.0/)"
      ]
    },
    {
      "cell_type": "code",
      "execution_count": 2,
      "metadata": {
        "execution": {
          "iopub.execute_input": "2021-04-16T19:35:12.094262Z",
          "iopub.status.busy": "2021-04-16T19:35:12.093730Z",
          "iopub.status.idle": "2021-04-16T19:35:12.095822Z",
          "shell.execute_reply": "2021-04-16T19:35:12.095402Z"
        },
        "tags": [],
        "colab": {
          "base_uri": "https://localhost:8080/"
        },
        "id": "Ct88FrpWN5Tr",
        "outputId": "8bdb036e-b382-4790-cd4d-84e082f1f963"
      },
      "outputs": [
        {
          "output_type": "stream",
          "name": "stdout",
          "text": [
            "Collecting empiricaldist\n",
            "  Downloading empiricaldist-0.7.2.tar.gz (12 kB)\n",
            "  Installing build dependencies ... \u001b[?25l\u001b[?25hdone\n",
            "  Getting requirements to build wheel ... \u001b[?25l\u001b[?25hdone\n",
            "  Preparing metadata (pyproject.toml) ... \u001b[?25l\u001b[?25hdone\n",
            "Building wheels for collected packages: empiricaldist\n",
            "  Building wheel for empiricaldist (pyproject.toml) ... \u001b[?25l\u001b[?25hdone\n",
            "  Created wheel for empiricaldist: filename=empiricaldist-0.7.2-py3-none-any.whl size=12205 sha256=5d7c4d9269450325c3384fdd8ae759acd7e929db04b6e762ecf184278c75b99b\n",
            "  Stored in directory: /root/.cache/pip/wheels/e9/57/8a/15b864f4d5dc20cef626e3a015fec88b19df385ef30a8364cc\n",
            "Successfully built empiricaldist\n",
            "Installing collected packages: empiricaldist\n",
            "Successfully installed empiricaldist-0.7.2\n"
          ]
        }
      ],
      "source": [
        "# If we're running on Colab, install empiricaldist\n",
        "# https://pypi.org/project/empiricaldist/\n",
        "\n",
        "import sys\n",
        "IN_COLAB = 'google.colab' in sys.modules\n",
        "\n",
        "if IN_COLAB:\n",
        "    !pip install empiricaldist"
      ]
    },
    {
      "cell_type": "code",
      "execution_count": 3,
      "metadata": {
        "execution": {
          "iopub.execute_input": "2021-04-16T19:35:12.099615Z",
          "iopub.status.busy": "2021-04-16T19:35:12.098997Z",
          "iopub.status.idle": "2021-04-16T19:35:12.100895Z",
          "shell.execute_reply": "2021-04-16T19:35:12.101335Z"
        },
        "tags": [],
        "colab": {
          "base_uri": "https://localhost:8080/"
        },
        "id": "aHDBJeC8N5Ts",
        "outputId": "e72a84ba-3c88-4388-deea-edc5362adcc8"
      },
      "outputs": [
        {
          "output_type": "stream",
          "name": "stdout",
          "text": [
            "Downloaded utils.py\n"
          ]
        }
      ],
      "source": [
        "# Get utils.py\n",
        "\n",
        "from os.path import basename, exists\n",
        "\n",
        "def download(url):\n",
        "    filename = basename(url)\n",
        "    if not exists(filename):\n",
        "        from urllib.request import urlretrieve\n",
        "        local, _ = urlretrieve(url, filename)\n",
        "        print('Downloaded ' + local)\n",
        "\n",
        "download('https://github.com/AllenDowney/ThinkBayes2/raw/master/soln/utils.py')"
      ]
    },
    {
      "cell_type": "code",
      "execution_count": 4,
      "metadata": {
        "execution": {
          "iopub.execute_input": "2021-04-16T19:35:12.104987Z",
          "iopub.status.busy": "2021-04-16T19:35:12.104287Z",
          "iopub.status.idle": "2021-04-16T19:35:13.067675Z",
          "shell.execute_reply": "2021-04-16T19:35:13.068108Z"
        },
        "tags": [],
        "id": "0255uUa0N5Ts"
      },
      "outputs": [],
      "source": [
        "from utils import set_pyplot_params\n",
        "set_pyplot_params()"
      ]
    },
    {
      "cell_type": "markdown",
      "metadata": {
        "id": "xqoEO1TEN5Ts"
      },
      "source": [
        "In the previous chapter we used Bayes's Theorem to solve a cookie problem; then we solved it again using a Bayes table.\n",
        "In this chapter, at the risk of testing your patience, we will solve it one more time using a `Pmf` object, which represents a \"probability mass function\".\n",
        "I'll explain what that means, and why it is useful for Bayesian statistics.\n",
        "\n",
        "We'll use `Pmf` objects to solve some more challenging problems and take one more step toward Bayesian statistics.\n",
        "But we'll start with distributions."
      ]
    },
    {
      "cell_type": "markdown",
      "metadata": {
        "id": "QclXbqV8N5Ts"
      },
      "source": [
        "## Distributions\n",
        "\n",
        "In statistics a **distribution** is a set of possible outcomes and their corresponding probabilities.\n",
        "For example, if you toss a coin, there are two possible outcomes with\n",
        "approximately equal probability.\n",
        "If you roll a six-sided die, the set of possible outcomes is the numbers 1 to 6, and the probability associated with each outcome is 1/6.\n",
        "\n",
        "To represent distributions, we'll use a library called `empiricaldist`.\n",
        "An \"empirical\" distribution is based on data, as opposed to a\n",
        "theoretical distribution.\n",
        "We'll use this library throughout the book.  I'll introduce the basic features in this chapter and we'll see additional features later."
      ]
    },
    {
      "cell_type": "markdown",
      "metadata": {
        "id": "BeJxyFUMN5Ts"
      },
      "source": [
        "## Probability Mass Functions\n",
        "\n",
        "If the outcomes in a distribution are discrete, we can describe the distribution with a **probability mass function**, or PMF, which is a function that maps from each possible outcome to its probability.\n",
        "\n",
        "`empiricaldist` provides a class called `Pmf` that represents a\n",
        "probability mass function.\n",
        "To use `Pmf` you can import it like this:"
      ]
    },
    {
      "cell_type": "code",
      "execution_count": 5,
      "metadata": {
        "execution": {
          "iopub.execute_input": "2021-04-16T19:35:13.071512Z",
          "iopub.status.busy": "2021-04-16T19:35:13.071040Z",
          "iopub.status.idle": "2021-04-16T19:35:13.073278Z",
          "shell.execute_reply": "2021-04-16T19:35:13.072869Z"
        },
        "id": "wpZBiPcTN5Tt"
      },
      "outputs": [],
      "source": [
        "from empiricaldist import Pmf"
      ]
    },
    {
      "cell_type": "markdown",
      "metadata": {
        "tags": [],
        "id": "orI62so3N5Tt"
      },
      "source": [
        "If that doesn't work, you might have to install `empiricaldist`; try running\n",
        "\n",
        "```\n",
        "!pip install empiricaldist\n",
        "```\n",
        "\n",
        "in a code cell or\n",
        "\n",
        "```\n",
        "pip install empiricaldist\n",
        "```\n",
        "\n",
        "in a terminal window."
      ]
    },
    {
      "cell_type": "markdown",
      "metadata": {
        "id": "bn5QlHP3N5Tt"
      },
      "source": [
        "The following example makes a `Pmf` that represents the outcome of a\n",
        "coin toss."
      ]
    },
    {
      "cell_type": "code",
      "execution_count": 6,
      "metadata": {
        "execution": {
          "iopub.execute_input": "2021-04-16T19:35:13.085000Z",
          "iopub.status.busy": "2021-04-16T19:35:13.081870Z",
          "iopub.status.idle": "2021-04-16T19:35:13.088193Z",
          "shell.execute_reply": "2021-04-16T19:35:13.087667Z"
        },
        "colab": {
          "base_uri": "https://localhost:8080/",
          "height": 168
        },
        "id": "2vqjWpJNN5Tt",
        "outputId": "74860cf5-a099-43fe-a1da-63fe99bb3be1"
      },
      "outputs": [
        {
          "output_type": "stream",
          "name": "stderr",
          "text": [
            "<ipython-input-6-a25d0e172e1e>:1: FutureWarning: The default dtype for empty Series will be 'object' instead of 'float64' in a future version. Specify a dtype explicitly to silence this warning.\n",
            "  coin = Pmf()\n"
          ]
        },
        {
          "output_type": "execute_result",
          "data": {
            "text/plain": [
              "heads    0.5\n",
              "tails    0.5\n",
              "dtype: float64"
            ],
            "text/html": [
              "<div>\n",
              "<style scoped>\n",
              "    .dataframe tbody tr th:only-of-type {\n",
              "        vertical-align: middle;\n",
              "    }\n",
              "\n",
              "    .dataframe tbody tr th {\n",
              "        vertical-align: top;\n",
              "    }\n",
              "\n",
              "    .dataframe thead th {\n",
              "        text-align: right;\n",
              "    }\n",
              "</style>\n",
              "<table border=\"1\" class=\"dataframe\">\n",
              "  <thead>\n",
              "    <tr style=\"text-align: right;\">\n",
              "      <th></th>\n",
              "      <th>probs</th>\n",
              "    </tr>\n",
              "  </thead>\n",
              "  <tbody>\n",
              "    <tr>\n",
              "      <th>heads</th>\n",
              "      <td>0.5</td>\n",
              "    </tr>\n",
              "    <tr>\n",
              "      <th>tails</th>\n",
              "      <td>0.5</td>\n",
              "    </tr>\n",
              "  </tbody>\n",
              "</table>\n",
              "</div>"
            ]
          },
          "metadata": {},
          "execution_count": 6
        }
      ],
      "source": [
        "coin = Pmf()\n",
        "coin['heads'] = 1/2\n",
        "coin['tails'] = 1/2\n",
        "coin"
      ]
    },
    {
      "cell_type": "markdown",
      "metadata": {
        "id": "rTWn9vY5N5Tt"
      },
      "source": [
        "`Pmf` creates an empty `Pmf` with no outcomes.\n",
        "Then we can add new outcomes using the bracket operator.\n",
        "In this example, the two outcomes are represented with strings, and they have the same probability, 0.5."
      ]
    },
    {
      "cell_type": "markdown",
      "metadata": {
        "id": "NCuO3_VpN5Tt"
      },
      "source": [
        "You can also make a `Pmf` from a sequence of possible outcomes.\n",
        "\n",
        "The following example uses `Pmf.from_seq` to make a `Pmf` that represents a six-sided die."
      ]
    },
    {
      "cell_type": "code",
      "execution_count": 7,
      "metadata": {
        "execution": {
          "iopub.execute_input": "2021-04-16T19:35:13.092152Z",
          "iopub.status.busy": "2021-04-16T19:35:13.091700Z",
          "iopub.status.idle": "2021-04-16T19:35:13.101915Z",
          "shell.execute_reply": "2021-04-16T19:35:13.102297Z"
        },
        "colab": {
          "base_uri": "https://localhost:8080/",
          "height": 238
        },
        "id": "3JeHETmuN5Tt",
        "outputId": "d232c220-cb48-4ad4-856b-c21df9f6bbda"
      },
      "outputs": [
        {
          "output_type": "execute_result",
          "data": {
            "text/plain": [
              "1    0.166667\n",
              "2    0.166667\n",
              "3    0.166667\n",
              "4    0.166667\n",
              "5    0.166667\n",
              "6    0.166667\n",
              "dtype: float64"
            ],
            "text/html": [
              "<div>\n",
              "<style scoped>\n",
              "    .dataframe tbody tr th:only-of-type {\n",
              "        vertical-align: middle;\n",
              "    }\n",
              "\n",
              "    .dataframe tbody tr th {\n",
              "        vertical-align: top;\n",
              "    }\n",
              "\n",
              "    .dataframe thead th {\n",
              "        text-align: right;\n",
              "    }\n",
              "</style>\n",
              "<table border=\"1\" class=\"dataframe\">\n",
              "  <thead>\n",
              "    <tr style=\"text-align: right;\">\n",
              "      <th></th>\n",
              "      <th>probs</th>\n",
              "    </tr>\n",
              "  </thead>\n",
              "  <tbody>\n",
              "    <tr>\n",
              "      <th>1</th>\n",
              "      <td>0.166667</td>\n",
              "    </tr>\n",
              "    <tr>\n",
              "      <th>2</th>\n",
              "      <td>0.166667</td>\n",
              "    </tr>\n",
              "    <tr>\n",
              "      <th>3</th>\n",
              "      <td>0.166667</td>\n",
              "    </tr>\n",
              "    <tr>\n",
              "      <th>4</th>\n",
              "      <td>0.166667</td>\n",
              "    </tr>\n",
              "    <tr>\n",
              "      <th>5</th>\n",
              "      <td>0.166667</td>\n",
              "    </tr>\n",
              "    <tr>\n",
              "      <th>6</th>\n",
              "      <td>0.166667</td>\n",
              "    </tr>\n",
              "  </tbody>\n",
              "</table>\n",
              "</div>"
            ]
          },
          "metadata": {},
          "execution_count": 7
        }
      ],
      "source": [
        "die = Pmf.from_seq([1,2,3,4,5,6])\n",
        "die"
      ]
    },
    {
      "cell_type": "markdown",
      "metadata": {
        "id": "xQjuQ4p1N5Tt"
      },
      "source": [
        "In this example, all outcomes in the sequence appear once, so they all have the same probability, $1/6$.\n",
        "\n",
        "More generally, outcomes can appear more than once, as in the following example:"
      ]
    },
    {
      "cell_type": "code",
      "execution_count": 8,
      "metadata": {
        "execution": {
          "iopub.execute_input": "2021-04-16T19:35:13.109370Z",
          "iopub.status.busy": "2021-04-16T19:35:13.108697Z",
          "iopub.status.idle": "2021-04-16T19:35:13.111096Z",
          "shell.execute_reply": "2021-04-16T19:35:13.111446Z"
        },
        "colab": {
          "base_uri": "https://localhost:8080/",
          "height": 175
        },
        "id": "_8PuI_caN5Tt",
        "outputId": "a37d8ee3-ae57-4950-8f1f-7470848d0bc6"
      },
      "outputs": [
        {
          "output_type": "execute_result",
          "data": {
            "text/plain": [
              "M    0.090909\n",
              "i    0.363636\n",
              "p    0.181818\n",
              "s    0.363636\n",
              "dtype: float64"
            ],
            "text/html": [
              "<div>\n",
              "<style scoped>\n",
              "    .dataframe tbody tr th:only-of-type {\n",
              "        vertical-align: middle;\n",
              "    }\n",
              "\n",
              "    .dataframe tbody tr th {\n",
              "        vertical-align: top;\n",
              "    }\n",
              "\n",
              "    .dataframe thead th {\n",
              "        text-align: right;\n",
              "    }\n",
              "</style>\n",
              "<table border=\"1\" class=\"dataframe\">\n",
              "  <thead>\n",
              "    <tr style=\"text-align: right;\">\n",
              "      <th></th>\n",
              "      <th>probs</th>\n",
              "    </tr>\n",
              "  </thead>\n",
              "  <tbody>\n",
              "    <tr>\n",
              "      <th>M</th>\n",
              "      <td>0.090909</td>\n",
              "    </tr>\n",
              "    <tr>\n",
              "      <th>i</th>\n",
              "      <td>0.363636</td>\n",
              "    </tr>\n",
              "    <tr>\n",
              "      <th>p</th>\n",
              "      <td>0.181818</td>\n",
              "    </tr>\n",
              "    <tr>\n",
              "      <th>s</th>\n",
              "      <td>0.363636</td>\n",
              "    </tr>\n",
              "  </tbody>\n",
              "</table>\n",
              "</div>"
            ]
          },
          "metadata": {},
          "execution_count": 8
        }
      ],
      "source": [
        "letters = Pmf.from_seq(list('Mississippi'))\n",
        "letters"
      ]
    },
    {
      "cell_type": "markdown",
      "metadata": {
        "id": "xZJCFQG3N5Tt"
      },
      "source": [
        "The letter `M` appears once out of 11 characters, so its probability is $1/11$.\n",
        "The letter `i` appears 4 times, so its probability is $4/11$.\n",
        "\n",
        "Since the letters in a string are not outcomes of a random process, I'll use the more general term \"quantities\" for the letters in the `Pmf`.\n",
        "\n",
        "The `Pmf` class inherits from a Pandas `Series`, so anything you can do with a `Series`, you can also do with a `Pmf`.\n",
        "\n",
        "For example, you can use the bracket operator to look up a quantity and get the corresponding probability."
      ]
    },
    {
      "cell_type": "code",
      "execution_count": 9,
      "metadata": {
        "execution": {
          "iopub.execute_input": "2021-04-16T19:35:13.116296Z",
          "iopub.status.busy": "2021-04-16T19:35:13.115451Z",
          "iopub.status.idle": "2021-04-16T19:35:13.118339Z",
          "shell.execute_reply": "2021-04-16T19:35:13.118724Z"
        },
        "colab": {
          "base_uri": "https://localhost:8080/"
        },
        "id": "SBEbILW5N5Tt",
        "outputId": "301e6a00-eb00-4744-a1e1-56760acbf3cb"
      },
      "outputs": [
        {
          "output_type": "execute_result",
          "data": {
            "text/plain": [
              "0.36363636363636365"
            ]
          },
          "metadata": {},
          "execution_count": 9
        }
      ],
      "source": [
        "letters['s']"
      ]
    },
    {
      "cell_type": "markdown",
      "metadata": {
        "id": "_cjdXcdWN5Tu"
      },
      "source": [
        "In the word \"Mississippi\", about 36% of the letters are \"s\".\n",
        "\n",
        "However, if you ask for the probability of a quantity that's not in the distribution, you get a `KeyError`.\n",
        "\n"
      ]
    },
    {
      "cell_type": "code",
      "execution_count": 10,
      "metadata": {
        "execution": {
          "iopub.execute_input": "2021-04-16T19:35:13.122337Z",
          "iopub.status.busy": "2021-04-16T19:35:13.121841Z",
          "iopub.status.idle": "2021-04-16T19:35:13.124479Z",
          "shell.execute_reply": "2021-04-16T19:35:13.124086Z"
        },
        "tags": [],
        "colab": {
          "base_uri": "https://localhost:8080/"
        },
        "id": "aWEtIsWgN5Tu",
        "outputId": "1043db98-aec2-4a45-85b5-9fedd3d4637b"
      },
      "outputs": [
        {
          "output_type": "stream",
          "name": "stdout",
          "text": [
            "<class 'KeyError'>\n"
          ]
        }
      ],
      "source": [
        "try:\n",
        "    letters['t']\n",
        "except KeyError as e:\n",
        "    print(type(e))"
      ]
    },
    {
      "cell_type": "markdown",
      "metadata": {
        "id": "Q7Rwsl9uN5Tu"
      },
      "source": [
        "You can also call a `Pmf` as if it were a function, with a letter in parentheses."
      ]
    },
    {
      "cell_type": "code",
      "execution_count": 11,
      "metadata": {
        "execution": {
          "iopub.execute_input": "2021-04-16T19:35:13.128416Z",
          "iopub.status.busy": "2021-04-16T19:35:13.127840Z",
          "iopub.status.idle": "2021-04-16T19:35:13.130899Z",
          "shell.execute_reply": "2021-04-16T19:35:13.130488Z"
        },
        "colab": {
          "base_uri": "https://localhost:8080/"
        },
        "id": "8DGtxQPLN5Tu",
        "outputId": "0ee7000e-7230-4da6-8e3e-99ea3a4ebbf0"
      },
      "outputs": [
        {
          "output_type": "execute_result",
          "data": {
            "text/plain": [
              "0.36363636363636365"
            ]
          },
          "metadata": {},
          "execution_count": 11
        }
      ],
      "source": [
        "letters('s')"
      ]
    },
    {
      "cell_type": "markdown",
      "metadata": {
        "id": "jV2vw2n7N5Tu"
      },
      "source": [
        "If the quantity is in the distribution the results are the same.\n",
        "But if it is not in the distribution, the result is `0`, not an error."
      ]
    },
    {
      "cell_type": "code",
      "execution_count": 12,
      "metadata": {
        "execution": {
          "iopub.execute_input": "2021-04-16T19:35:13.134469Z",
          "iopub.status.busy": "2021-04-16T19:35:13.133893Z",
          "iopub.status.idle": "2021-04-16T19:35:13.136395Z",
          "shell.execute_reply": "2021-04-16T19:35:13.136752Z"
        },
        "colab": {
          "base_uri": "https://localhost:8080/"
        },
        "id": "e3AAx-BqN5Tu",
        "outputId": "cba164d6-a861-452c-a39c-f9934a8bc40e"
      },
      "outputs": [
        {
          "output_type": "execute_result",
          "data": {
            "text/plain": [
              "0"
            ]
          },
          "metadata": {},
          "execution_count": 12
        }
      ],
      "source": [
        "letters('t')"
      ]
    },
    {
      "cell_type": "markdown",
      "metadata": {
        "id": "TSxGuWpqN5Tu"
      },
      "source": [
        "With parentheses, you can also provide a sequence of quantities and get a sequence of probabilities."
      ]
    },
    {
      "cell_type": "code",
      "execution_count": 13,
      "metadata": {
        "execution": {
          "iopub.execute_input": "2021-04-16T19:35:13.140773Z",
          "iopub.status.busy": "2021-04-16T19:35:13.140250Z",
          "iopub.status.idle": "2021-04-16T19:35:13.142982Z",
          "shell.execute_reply": "2021-04-16T19:35:13.142616Z"
        },
        "colab": {
          "base_uri": "https://localhost:8080/"
        },
        "id": "CFFZIutON5Tu",
        "outputId": "57210728-9384-4d52-91ac-f3bf1ffe00e0"
      },
      "outputs": [
        {
          "output_type": "execute_result",
          "data": {
            "text/plain": [
              "array([0.16666667, 0.16666667, 0.        ])"
            ]
          },
          "metadata": {},
          "execution_count": 13
        }
      ],
      "source": [
        "die([1,4,7])"
      ]
    },
    {
      "cell_type": "markdown",
      "metadata": {
        "id": "ihtWv8nNN5Tu"
      },
      "source": [
        "The quantities in a `Pmf` can be strings, numbers, or any other type that can be stored in the index of a Pandas `Series`.\n",
        "If you are familiar with Pandas, that will help you work with `Pmf` objects.\n",
        "But I will explain what you need to know as we go along."
      ]
    },
    {
      "cell_type": "markdown",
      "metadata": {
        "id": "2WOHkqPcN5Tv"
      },
      "source": [
        "## The Cookie Problem Revisited\n",
        "\n",
        "In this section I'll use a `Pmf` to solve the cookie problem from <<_TheCookieProblem>>.\n",
        "Here's the statement of the problem again:\n",
        "\n",
        "> Suppose there are two bowls of cookies.\n",
        ">\n",
        "> * Bowl 1 contains 30 vanilla cookies and 10 chocolate cookies.\n",
        ">\n",
        "> * Bowl 2 contains 20 vanilla cookies and 20 chocolate cookies.\n",
        ">\n",
        "> Now suppose you choose one of the bowls at random and, without looking, choose a cookie at random. If the cookie is vanilla, what is the probability that it came from Bowl 1?\n",
        "\n",
        "Here's a `Pmf` that represents the two hypotheses and their prior probabilities:"
      ]
    },
    {
      "cell_type": "code",
      "execution_count": 14,
      "metadata": {
        "execution": {
          "iopub.execute_input": "2021-04-16T19:35:13.149760Z",
          "iopub.status.busy": "2021-04-16T19:35:13.149078Z",
          "iopub.status.idle": "2021-04-16T19:35:13.152305Z",
          "shell.execute_reply": "2021-04-16T19:35:13.151707Z"
        },
        "colab": {
          "base_uri": "https://localhost:8080/",
          "height": 112
        },
        "id": "30B7adWUN5Tv",
        "outputId": "d0a3c77c-e995-44b8-8bbd-e817f76b646d"
      },
      "outputs": [
        {
          "output_type": "execute_result",
          "data": {
            "text/plain": [
              "Bowl 1    0.5\n",
              "Bowl 2    0.5\n",
              "dtype: float64"
            ],
            "text/html": [
              "<div>\n",
              "<style scoped>\n",
              "    .dataframe tbody tr th:only-of-type {\n",
              "        vertical-align: middle;\n",
              "    }\n",
              "\n",
              "    .dataframe tbody tr th {\n",
              "        vertical-align: top;\n",
              "    }\n",
              "\n",
              "    .dataframe thead th {\n",
              "        text-align: right;\n",
              "    }\n",
              "</style>\n",
              "<table border=\"1\" class=\"dataframe\">\n",
              "  <thead>\n",
              "    <tr style=\"text-align: right;\">\n",
              "      <th></th>\n",
              "      <th>probs</th>\n",
              "    </tr>\n",
              "  </thead>\n",
              "  <tbody>\n",
              "    <tr>\n",
              "      <th>Bowl 1</th>\n",
              "      <td>0.5</td>\n",
              "    </tr>\n",
              "    <tr>\n",
              "      <th>Bowl 2</th>\n",
              "      <td>0.5</td>\n",
              "    </tr>\n",
              "  </tbody>\n",
              "</table>\n",
              "</div>"
            ]
          },
          "metadata": {},
          "execution_count": 14
        }
      ],
      "source": [
        "prior1 = Pmf.from_seq(['Bowl 1', 'Bowl 2'])\n",
        "prior1"
      ]
    },
    {
      "cell_type": "markdown",
      "metadata": {
        "id": "8drVjH64N5Tv"
      },
      "source": [
        "This distribution, which contains the prior probability for each hypothesis, is called (wait for it) the **prior distribution**.\n",
        "\n",
        "To update the distribution based on new data (the vanilla cookie),\n",
        "we multiply the priors by the likelihoods. The likelihood\n",
        "of drawing a vanilla cookie from Bowl 1 is `3/4`. The likelihood\n",
        "for Bowl 2 is `1/2`."
      ]
    },
    {
      "cell_type": "code",
      "execution_count": 15,
      "metadata": {
        "execution": {
          "iopub.execute_input": "2021-04-16T19:35:13.158260Z",
          "iopub.status.busy": "2021-04-16T19:35:13.157620Z",
          "iopub.status.idle": "2021-04-16T19:35:13.160416Z",
          "shell.execute_reply": "2021-04-16T19:35:13.160045Z"
        },
        "colab": {
          "base_uri": "https://localhost:8080/",
          "height": 112
        },
        "id": "h8vexN2BN5Tv",
        "outputId": "d780e405-ca88-4b1d-c0b3-08310a442fb5"
      },
      "outputs": [
        {
          "output_type": "execute_result",
          "data": {
            "text/plain": [
              "Bowl 1    0.375\n",
              "Bowl 2    0.250\n",
              "dtype: float64"
            ],
            "text/html": [
              "<div>\n",
              "<style scoped>\n",
              "    .dataframe tbody tr th:only-of-type {\n",
              "        vertical-align: middle;\n",
              "    }\n",
              "\n",
              "    .dataframe tbody tr th {\n",
              "        vertical-align: top;\n",
              "    }\n",
              "\n",
              "    .dataframe thead th {\n",
              "        text-align: right;\n",
              "    }\n",
              "</style>\n",
              "<table border=\"1\" class=\"dataframe\">\n",
              "  <thead>\n",
              "    <tr style=\"text-align: right;\">\n",
              "      <th></th>\n",
              "      <th>probs</th>\n",
              "    </tr>\n",
              "  </thead>\n",
              "  <tbody>\n",
              "    <tr>\n",
              "      <th>Bowl 1</th>\n",
              "      <td>0.375</td>\n",
              "    </tr>\n",
              "    <tr>\n",
              "      <th>Bowl 2</th>\n",
              "      <td>0.250</td>\n",
              "    </tr>\n",
              "  </tbody>\n",
              "</table>\n",
              "</div>"
            ]
          },
          "metadata": {},
          "execution_count": 15
        }
      ],
      "source": [
        "likelihood_vanilla1 = [0.75, 0.5]\n",
        "# Given a bowel (1 or 2 here), probabilty of getting a vanilla\n",
        "# if the cookie is putting back then this not change\n",
        "posterior1unnorm = prior1 * likelihood_vanilla1\n",
        "# this p1 is not normalized\n",
        "posterior1unnorm"
      ]
    },
    {
      "cell_type": "markdown",
      "metadata": {
        "id": "slAkoWf6N5Tv"
      },
      "source": [
        "The result is the unnormalized posteriors; that is, they don't add up to 1.\n",
        "To make them add up to 1, we can use `normalize`, which is a method provided by `Pmf`."
      ]
    },
    {
      "cell_type": "code",
      "execution_count": 16,
      "metadata": {
        "execution": {
          "iopub.execute_input": "2021-04-16T19:35:13.164762Z",
          "iopub.status.busy": "2021-04-16T19:35:13.164137Z",
          "iopub.status.idle": "2021-04-16T19:35:13.167103Z",
          "shell.execute_reply": "2021-04-16T19:35:13.166662Z"
        },
        "colab": {
          "base_uri": "https://localhost:8080/"
        },
        "id": "-3hEwmejN5Tv",
        "outputId": "8ec8a7ab-1eba-4812-93f4-28c33a7804e5"
      },
      "outputs": [
        {
          "output_type": "stream",
          "name": "stdout",
          "text": [
            "prior or prob. of B1 and B2 is [P(B1), P(B2)]\n",
            "Bowl 1    0.5\n",
            "Bowl 2    0.5\n",
            "dtype: float64\n",
            "\n",
            "likehood of Vanilla given B1 and B2 is [pr(V|B1), pr(V|B2)]\n",
            "[0.75, 0.5]\n",
            "\n",
            "In general, pr(V|B1)p(B1).     = p(B1|V)p(V)\n",
            "or,         pr(V|B1)p(B1)/p(V) = p(B1|V) \n",
            "\n",
            "or, p(B1|V) = pr(B1) * pr(V|B1)         unnorm\n",
            "before normalise:\n",
            "posterior1 =\n",
            "Bowl 1    0.375\n",
            "Bowl 2    0.250\n",
            "dtype: float64\n",
            "\n",
            "or, p(B1|V) = pr(B1) * pr(V|B1) / pr(V) norm\n",
            "after normalise:\n",
            "posterior1 changed!! =\n",
            "Bowl 1    0.6\n",
            "Bowl 2    0.4\n",
            "dtype: float64\n",
            "\n",
            "compared with:\n",
            "0.6\n",
            "total probability\n",
            "0.625\n",
            "\n"
          ]
        }
      ],
      "source": [
        "# avoid issue of update:\n",
        "prior1 = Pmf.from_seq(['Bowl 1', 'Bowl 2'])\n",
        "prior1\n",
        "print(\"prior or prob. of B1 and B2 is [P(B1), P(B2)]\")\n",
        "print(f\"{prior1}\\n\")\n",
        "print(\"likehood of Vanilla given B1 and B2 is [pr(V|B1), pr(V|B2)]\")\n",
        "likelihood_vanilla1 = [0.75, 0.5]\n",
        "print(f\"{likelihood_vanilla1}\\n\")\n",
        "# Given a bowel (1 or 2 here), probabilty of getting a vanilla\n",
        "# if the cookie is putting back then this not change\n",
        "print(\"In general, pr(V|B1)p(B1).     = p(B1|V)p(V)\")\n",
        "print(\"or,         pr(V|B1)p(B1)/p(V) = p(B1|V) \\n\")\n",
        "posterior1 = prior1 * likelihood_vanilla1\n",
        "# this p1 is not normalized\n",
        "posterior1\n",
        "print(\"or, p(B1|V) = pr(B1) * pr(V|B1)         unnorm\")\n",
        "\n",
        "# this is normalised i.e. it is if 1st is a V then B1\n",
        "print(\"before normalise:\")\n",
        "print(f\"posterior1 =\\n{posterior1}\\n\")\n",
        "\n",
        "print(\"or, p(B1|V) = pr(B1) * pr(V|B1) / pr(V) norm\")\n",
        "posterior1.normalize()\n",
        "print(\"after normalise:\")\n",
        "print(f\"posterior1 changed!! =\\n{posterior1}\\n\")\n",
        "print(\"compared with:\")\n",
        "print(0.375/(0.375+0.250))\n",
        "print(\"total probability\")\n",
        "print((0.375+0.250))\n",
        "print()\n"
      ]
    },
    {
      "cell_type": "markdown",
      "metadata": {
        "id": "UJYQb7l7N5Tv"
      },
      "source": [
        "The return value from `normalize` is the total probability of the data, which is $5/8$.\n",
        "\n",
        "`posterior`, which contains the posterior probability for each hypothesis, is called (wait now) the **posterior distribution**."
      ]
    },
    {
      "cell_type": "code",
      "execution_count": 17,
      "metadata": {
        "execution": {
          "iopub.execute_input": "2021-04-16T19:35:13.172660Z",
          "iopub.status.busy": "2021-04-16T19:35:13.171984Z",
          "iopub.status.idle": "2021-04-16T19:35:13.174476Z",
          "shell.execute_reply": "2021-04-16T19:35:13.174842Z"
        },
        "colab": {
          "base_uri": "https://localhost:8080/",
          "height": 112
        },
        "id": "TSkXZj5YN5Tv",
        "outputId": "f1548e66-30db-4ef3-ad3f-6a5cbce260fc"
      },
      "outputs": [
        {
          "output_type": "execute_result",
          "data": {
            "text/plain": [
              "Bowl 1    0.6\n",
              "Bowl 2    0.4\n",
              "dtype: float64"
            ],
            "text/html": [
              "<div>\n",
              "<style scoped>\n",
              "    .dataframe tbody tr th:only-of-type {\n",
              "        vertical-align: middle;\n",
              "    }\n",
              "\n",
              "    .dataframe tbody tr th {\n",
              "        vertical-align: top;\n",
              "    }\n",
              "\n",
              "    .dataframe thead th {\n",
              "        text-align: right;\n",
              "    }\n",
              "</style>\n",
              "<table border=\"1\" class=\"dataframe\">\n",
              "  <thead>\n",
              "    <tr style=\"text-align: right;\">\n",
              "      <th></th>\n",
              "      <th>probs</th>\n",
              "    </tr>\n",
              "  </thead>\n",
              "  <tbody>\n",
              "    <tr>\n",
              "      <th>Bowl 1</th>\n",
              "      <td>0.6</td>\n",
              "    </tr>\n",
              "    <tr>\n",
              "      <th>Bowl 2</th>\n",
              "      <td>0.4</td>\n",
              "    </tr>\n",
              "  </tbody>\n",
              "</table>\n",
              "</div>"
            ]
          },
          "metadata": {},
          "execution_count": 17
        }
      ],
      "source": [
        "posterior1"
      ]
    },
    {
      "cell_type": "markdown",
      "metadata": {
        "id": "pNJVRJA2N5Tw"
      },
      "source": [
        "From the posterior distribution we can select the posterior probability for Bowl 1:"
      ]
    },
    {
      "cell_type": "code",
      "execution_count": 18,
      "metadata": {
        "execution": {
          "iopub.execute_input": "2021-04-16T19:35:13.178618Z",
          "iopub.status.busy": "2021-04-16T19:35:13.177927Z",
          "iopub.status.idle": "2021-04-16T19:35:13.180255Z",
          "shell.execute_reply": "2021-04-16T19:35:13.180610Z"
        },
        "colab": {
          "base_uri": "https://localhost:8080/"
        },
        "id": "Cf_4zF9sN5Tw",
        "outputId": "9fb7d58d-2046-4836-fe16-ca64ce329c9a"
      },
      "outputs": [
        {
          "output_type": "execute_result",
          "data": {
            "text/plain": [
              "0.6"
            ]
          },
          "metadata": {},
          "execution_count": 18
        }
      ],
      "source": [
        "posterior1('Bowl 1') # note the"
      ]
    },
    {
      "cell_type": "markdown",
      "metadata": {
        "id": "zULnt7-rN5Tw"
      },
      "source": [
        "And the answer is 0.6.\n",
        "\n",
        "One benefit of using `Pmf` objects is that it is easy to do successive updates with more data.\n",
        "For example, suppose you put the first cookie back (so the contents of the bowls don't change) and draw again from the same bowl.\n",
        "If the second cookie is also vanilla, we can do a second update like this:"
      ]
    },
    {
      "cell_type": "code",
      "execution_count": 19,
      "metadata": {
        "execution": {
          "iopub.execute_input": "2021-04-16T19:35:13.187902Z",
          "iopub.status.busy": "2021-04-16T19:35:13.187276Z",
          "iopub.status.idle": "2021-04-16T19:35:13.189938Z",
          "shell.execute_reply": "2021-04-16T19:35:13.190290Z"
        },
        "colab": {
          "base_uri": "https://localhost:8080/",
          "height": 112
        },
        "id": "iyV3Lyz1N5Tw",
        "outputId": "8bd51e5c-6b12-4346-de4d-8fd14f52c435"
      },
      "outputs": [
        {
          "output_type": "execute_result",
          "data": {
            "text/plain": [
              "Bowl 1    0.692308\n",
              "Bowl 2    0.307692\n",
              "dtype: float64"
            ],
            "text/html": [
              "<div>\n",
              "<style scoped>\n",
              "    .dataframe tbody tr th:only-of-type {\n",
              "        vertical-align: middle;\n",
              "    }\n",
              "\n",
              "    .dataframe tbody tr th {\n",
              "        vertical-align: top;\n",
              "    }\n",
              "\n",
              "    .dataframe thead th {\n",
              "        text-align: right;\n",
              "    }\n",
              "</style>\n",
              "<table border=\"1\" class=\"dataframe\">\n",
              "  <thead>\n",
              "    <tr style=\"text-align: right;\">\n",
              "      <th></th>\n",
              "      <th>probs</th>\n",
              "    </tr>\n",
              "  </thead>\n",
              "  <tbody>\n",
              "    <tr>\n",
              "      <th>Bowl 1</th>\n",
              "      <td>0.692308</td>\n",
              "    </tr>\n",
              "    <tr>\n",
              "      <th>Bowl 2</th>\n",
              "      <td>0.307692</td>\n",
              "    </tr>\n",
              "  </tbody>\n",
              "</table>\n",
              "</div>"
            ]
          },
          "metadata": {},
          "execution_count": 19
        }
      ],
      "source": [
        "prior = Pmf.from_seq(['Bowl 1', 'Bowl 2'])\n",
        "likelihood_vanilla = [0.75, 0.5]\n",
        "posterior = prior * likelihood_vanilla\n",
        "posterior.normalize()\n",
        "posterior\n",
        "\n",
        "posterior *= likelihood_vanilla\n",
        "posterior.normalize()\n",
        "posterior"
      ]
    },
    {
      "cell_type": "markdown",
      "metadata": {
        "id": "hnvd3GAmN5Tw"
      },
      "source": [
        "Now the posterior probability for Bowl 1 is almost 70%.\n",
        "But suppose we do the same thing again and get a chocolate cookie.\n",
        "\n",
        "Here are the likelihoods for the new data:"
      ]
    },
    {
      "cell_type": "code",
      "execution_count": 20,
      "metadata": {
        "execution": {
          "iopub.execute_input": "2021-04-16T19:35:13.193226Z",
          "iopub.status.busy": "2021-04-16T19:35:13.192782Z",
          "iopub.status.idle": "2021-04-16T19:35:13.194564Z",
          "shell.execute_reply": "2021-04-16T19:35:13.194987Z"
        },
        "id": "AyoLqLIZN5Tx"
      },
      "outputs": [],
      "source": [
        "likelihood_chocolate = [0.25, 0.5]"
      ]
    },
    {
      "cell_type": "markdown",
      "metadata": {
        "id": "2BS8j0jyN5Tx"
      },
      "source": [
        "And here's the update."
      ]
    },
    {
      "cell_type": "code",
      "execution_count": 21,
      "metadata": {
        "execution": {
          "iopub.execute_input": "2021-04-16T19:35:13.202639Z",
          "iopub.status.busy": "2021-04-16T19:35:13.202008Z",
          "iopub.status.idle": "2021-04-16T19:35:13.204858Z",
          "shell.execute_reply": "2021-04-16T19:35:13.205318Z"
        },
        "colab": {
          "base_uri": "https://localhost:8080/",
          "height": 112
        },
        "id": "jZIqbmH1N5Tx",
        "outputId": "70d1ec1c-68dc-4fd4-9304-9b87646be7a7"
      },
      "outputs": [
        {
          "output_type": "execute_result",
          "data": {
            "text/plain": [
              "Bowl 1    0.529412\n",
              "Bowl 2    0.470588\n",
              "dtype: float64"
            ],
            "text/html": [
              "<div>\n",
              "<style scoped>\n",
              "    .dataframe tbody tr th:only-of-type {\n",
              "        vertical-align: middle;\n",
              "    }\n",
              "\n",
              "    .dataframe tbody tr th {\n",
              "        vertical-align: top;\n",
              "    }\n",
              "\n",
              "    .dataframe thead th {\n",
              "        text-align: right;\n",
              "    }\n",
              "</style>\n",
              "<table border=\"1\" class=\"dataframe\">\n",
              "  <thead>\n",
              "    <tr style=\"text-align: right;\">\n",
              "      <th></th>\n",
              "      <th>probs</th>\n",
              "    </tr>\n",
              "  </thead>\n",
              "  <tbody>\n",
              "    <tr>\n",
              "      <th>Bowl 1</th>\n",
              "      <td>0.529412</td>\n",
              "    </tr>\n",
              "    <tr>\n",
              "      <th>Bowl 2</th>\n",
              "      <td>0.470588</td>\n",
              "    </tr>\n",
              "  </tbody>\n",
              "</table>\n",
              "</div>"
            ]
          },
          "metadata": {},
          "execution_count": 21
        }
      ],
      "source": [
        "posterior *= likelihood_chocolate\n",
        "posterior.normalize()\n",
        "posterior"
      ]
    },
    {
      "cell_type": "markdown",
      "metadata": {
        "id": "Uxir54cSN5Tx"
      },
      "source": [
        "Now the posterior probability for Bowl 1 is about 53%.\n",
        "After two vanilla cookies and one chocolate, the posterior probabilities are close to 50/50."
      ]
    },
    {
      "cell_type": "markdown",
      "metadata": {
        "id": "9iCIUXqIN5Tx"
      },
      "source": [
        "## 101 Bowls\n",
        "\n",
        "Next let's solve a cookie problem with 101 bowls:\n",
        "\n",
        "* Bowl 0 contains 0% vanilla cookies,\n",
        "\n",
        "* Bowl 1 contains 1% vanilla cookies,\n",
        "\n",
        "* Bowl 2 contains 2% vanilla cookies,\n",
        "\n",
        "and so on, up to\n",
        "\n",
        "* Bowl 99 contains 99% vanilla cookies, and\n",
        "\n",
        "* Bowl 100 contains all vanilla cookies.\n",
        "\n",
        "As in the previous version, there are only two kinds of cookies, vanilla and chocolate.  So Bowl 0 is all chocolate cookies, Bowl 1 is 99% chocolate, and so on.\n",
        "\n",
        "Suppose we choose a bowl at random, choose a cookie at random, and it turns out to be vanilla.  What is the probability that the cookie came from Bowl $x$, for each value of $x$?\n",
        "\n",
        "To solve this problem, I'll use `np.arange` to make an array that represents 101 hypotheses, numbered from 0 to 100."
      ]
    },
    {
      "cell_type": "code",
      "execution_count": 22,
      "metadata": {
        "execution": {
          "iopub.execute_input": "2021-04-16T19:35:13.209286Z",
          "iopub.status.busy": "2021-04-16T19:35:13.208453Z",
          "iopub.status.idle": "2021-04-16T19:35:13.210850Z",
          "shell.execute_reply": "2021-04-16T19:35:13.211365Z"
        },
        "colab": {
          "base_uri": "https://localhost:8080/"
        },
        "id": "okeCD3NrN5Tx",
        "outputId": "01379294-2426-4089-d537-464390014d62"
      },
      "outputs": [
        {
          "output_type": "stream",
          "name": "stdout",
          "text": [
            "[  0   1   2   3   4   5   6   7   8   9  10  11  12  13  14  15  16  17\n",
            "  18  19  20  21  22  23  24  25  26  27  28  29  30  31  32  33  34  35\n",
            "  36  37  38  39  40  41  42  43  44  45  46  47  48  49  50  51  52  53\n",
            "  54  55  56  57  58  59  60  61  62  63  64  65  66  67  68  69  70  71\n",
            "  72  73  74  75  76  77  78  79  80  81  82  83  84  85  86  87  88  89\n",
            "  90  91  92  93  94  95  96  97  98  99 100]\n"
          ]
        }
      ],
      "source": [
        "import numpy as np\n",
        "\n",
        "hypos = np.arange(101) # bowl 0 to 100\n",
        "\n",
        "print(hypos)"
      ]
    },
    {
      "cell_type": "markdown",
      "metadata": {
        "id": "7y1bXEoNN5Tx"
      },
      "source": [
        "We can use this array to make the prior distribution:"
      ]
    },
    {
      "cell_type": "code",
      "execution_count": 23,
      "metadata": {
        "execution": {
          "iopub.execute_input": "2021-04-16T19:35:13.217907Z",
          "iopub.status.busy": "2021-04-16T19:35:13.217166Z",
          "iopub.status.idle": "2021-04-16T19:35:13.220630Z",
          "shell.execute_reply": "2021-04-16T19:35:13.219991Z"
        },
        "colab": {
          "base_uri": "https://localhost:8080/"
        },
        "id": "dB2drqJpN5Ty",
        "outputId": "f55fae33-6adb-47ac-aa24-dd464d670154"
      },
      "outputs": [
        {
          "output_type": "stream",
          "name": "stdout",
          "text": [
            "0      1\n",
            "1      1\n",
            "2      1\n",
            "3      1\n",
            "4      1\n",
            "      ..\n",
            "96     1\n",
            "97     1\n",
            "98     1\n",
            "99     1\n",
            "100    1\n",
            "Length: 101, dtype: int64\n",
            "0.009900990099009901\n",
            "0      0.009901\n",
            "1      0.009901\n",
            "2      0.009901\n",
            "3      0.009901\n",
            "4      0.009901\n",
            "         ...   \n",
            "96     0.009901\n",
            "97     0.009901\n",
            "98     0.009901\n",
            "99     0.009901\n",
            "100    0.009901\n",
            "Length: 101, dtype: float64\n"
          ]
        }
      ],
      "source": [
        "prior = Pmf(1, hypos)\n",
        "print(prior)\n",
        "prior.normalize() # 1/101\n",
        "print(1/101)\n",
        "print(prior)"
      ]
    },
    {
      "cell_type": "markdown",
      "metadata": {
        "id": "OyaWSB9QN5Ty"
      },
      "source": [
        "As this example shows, we can initialize a `Pmf` with two parameters.\n",
        "The first parameter is the prior probability; the second parameter is a sequence of quantities.\n",
        "\n",
        "In this example, the probabilities are all the same, so we only have to provide one of them; it gets \"broadcast\" across the hypotheses.\n",
        "Since all hypotheses have the same prior probability, this distribution is **uniform**.\n",
        "\n",
        "Here are the first few hypotheses and their probabilities."
      ]
    },
    {
      "cell_type": "code",
      "execution_count": 24,
      "metadata": {
        "execution": {
          "iopub.execute_input": "2021-04-16T19:35:13.228558Z",
          "iopub.status.busy": "2021-04-16T19:35:13.227628Z",
          "iopub.status.idle": "2021-04-16T19:35:13.232003Z",
          "shell.execute_reply": "2021-04-16T19:35:13.231443Z"
        },
        "colab": {
          "base_uri": "https://localhost:8080/",
          "height": 143
        },
        "id": "mUz0SlEJN5Ty",
        "outputId": "b5a62303-992f-47ae-c35b-74409a2a7136"
      },
      "outputs": [
        {
          "output_type": "execute_result",
          "data": {
            "text/plain": [
              "0    0.009901\n",
              "1    0.009901\n",
              "2    0.009901\n",
              "dtype: float64"
            ],
            "text/html": [
              "<div>\n",
              "<style scoped>\n",
              "    .dataframe tbody tr th:only-of-type {\n",
              "        vertical-align: middle;\n",
              "    }\n",
              "\n",
              "    .dataframe tbody tr th {\n",
              "        vertical-align: top;\n",
              "    }\n",
              "\n",
              "    .dataframe thead th {\n",
              "        text-align: right;\n",
              "    }\n",
              "</style>\n",
              "<table border=\"1\" class=\"dataframe\">\n",
              "  <thead>\n",
              "    <tr style=\"text-align: right;\">\n",
              "      <th></th>\n",
              "      <th>probs</th>\n",
              "    </tr>\n",
              "  </thead>\n",
              "  <tbody>\n",
              "    <tr>\n",
              "      <th>0</th>\n",
              "      <td>0.009901</td>\n",
              "    </tr>\n",
              "    <tr>\n",
              "      <th>1</th>\n",
              "      <td>0.009901</td>\n",
              "    </tr>\n",
              "    <tr>\n",
              "      <th>2</th>\n",
              "      <td>0.009901</td>\n",
              "    </tr>\n",
              "  </tbody>\n",
              "</table>\n",
              "</div>"
            ]
          },
          "metadata": {},
          "execution_count": 24
        }
      ],
      "source": [
        "prior.head()"
      ]
    },
    {
      "cell_type": "markdown",
      "metadata": {
        "id": "_zuchNkyN5Ty"
      },
      "source": [
        "The likelihood of the data is the fraction of vanilla cookies in each bowl, which we can calculate using `hypos`:"
      ]
    },
    {
      "cell_type": "code",
      "execution_count": 25,
      "metadata": {
        "execution": {
          "iopub.execute_input": "2021-04-16T19:35:13.237433Z",
          "iopub.status.busy": "2021-04-16T19:35:13.236599Z",
          "iopub.status.idle": "2021-04-16T19:35:13.239986Z",
          "shell.execute_reply": "2021-04-16T19:35:13.240390Z"
        },
        "colab": {
          "base_uri": "https://localhost:8080/"
        },
        "id": "Nl6tO2SRN5Ty",
        "outputId": "661d1921-81e0-4c4a-85a2-91cb2c085209"
      },
      "outputs": [
        {
          "output_type": "execute_result",
          "data": {
            "text/plain": [
              "array([0.  , 0.01, 0.02, 0.03, 0.04])"
            ]
          },
          "metadata": {},
          "execution_count": 25
        }
      ],
      "source": [
        "likelihood_vanilla = hypos/100\n",
        "likelihood_vanilla[:5]"
      ]
    },
    {
      "cell_type": "markdown",
      "metadata": {
        "id": "fAcURP38N5Ty"
      },
      "source": [
        "Now we can compute the posterior distribution in the usual way:\n"
      ]
    },
    {
      "cell_type": "code",
      "execution_count": 26,
      "metadata": {
        "execution": {
          "iopub.execute_input": "2021-04-16T19:35:13.247286Z",
          "iopub.status.busy": "2021-04-16T19:35:13.246696Z",
          "iopub.status.idle": "2021-04-16T19:35:13.249668Z",
          "shell.execute_reply": "2021-04-16T19:35:13.249258Z"
        },
        "colab": {
          "base_uri": "https://localhost:8080/",
          "height": 143
        },
        "id": "pkqHMZv9N5Ty",
        "outputId": "8392315e-ba6a-4766-8f80-12fff09fca2b"
      },
      "outputs": [
        {
          "output_type": "execute_result",
          "data": {
            "text/plain": [
              "0    0.000000\n",
              "1    0.000198\n",
              "2    0.000396\n",
              "dtype: float64"
            ],
            "text/html": [
              "<div>\n",
              "<style scoped>\n",
              "    .dataframe tbody tr th:only-of-type {\n",
              "        vertical-align: middle;\n",
              "    }\n",
              "\n",
              "    .dataframe tbody tr th {\n",
              "        vertical-align: top;\n",
              "    }\n",
              "\n",
              "    .dataframe thead th {\n",
              "        text-align: right;\n",
              "    }\n",
              "</style>\n",
              "<table border=\"1\" class=\"dataframe\">\n",
              "  <thead>\n",
              "    <tr style=\"text-align: right;\">\n",
              "      <th></th>\n",
              "      <th>probs</th>\n",
              "    </tr>\n",
              "  </thead>\n",
              "  <tbody>\n",
              "    <tr>\n",
              "      <th>0</th>\n",
              "      <td>0.000000</td>\n",
              "    </tr>\n",
              "    <tr>\n",
              "      <th>1</th>\n",
              "      <td>0.000198</td>\n",
              "    </tr>\n",
              "    <tr>\n",
              "      <th>2</th>\n",
              "      <td>0.000396</td>\n",
              "    </tr>\n",
              "  </tbody>\n",
              "</table>\n",
              "</div>"
            ]
          },
          "metadata": {},
          "execution_count": 26
        }
      ],
      "source": [
        "posterior1 = prior * likelihood_vanilla # why need to do posterior1???\n",
        "posterior1.normalize()\n",
        "posterior1.head()"
      ]
    },
    {
      "cell_type": "markdown",
      "metadata": {
        "id": "MBRHM1ZaN5Ty"
      },
      "source": [
        "The following figure shows the prior distribution and the posterior distribution after one vanilla cookie."
      ]
    },
    {
      "cell_type": "code",
      "execution_count": 28,
      "metadata": {
        "execution": {
          "iopub.execute_input": "2021-04-16T19:35:13.253344Z",
          "iopub.status.busy": "2021-04-16T19:35:13.252850Z",
          "iopub.status.idle": "2021-04-16T19:35:13.254442Z",
          "shell.execute_reply": "2021-04-16T19:35:13.254791Z"
        },
        "tags": [],
        "id": "pMUpn5LVN5Ty"
      },
      "outputs": [],
      "source": [
        "from utils import decorate\n",
        "\n",
        "def decorate_bowls(title):\n",
        "    decorate(xlabel='Bowl #',\n",
        "             ylabel='PMF',\n",
        "             title=title)"
      ]
    },
    {
      "cell_type": "code",
      "execution_count": 29,
      "metadata": {
        "execution": {
          "iopub.execute_input": "2021-04-16T19:35:13.258248Z",
          "iopub.status.busy": "2021-04-16T19:35:13.257658Z",
          "iopub.status.idle": "2021-04-16T19:35:13.489195Z",
          "shell.execute_reply": "2021-04-16T19:35:13.488684Z"
        },
        "tags": [],
        "colab": {
          "base_uri": "https://localhost:8080/",
          "height": 487
        },
        "id": "C9dsGgsPN5Tz",
        "outputId": "dd449202-1964-4fe9-d6c8-9566febd8b92"
      },
      "outputs": [
        {
          "output_type": "display_data",
          "data": {
            "text/plain": [
              "<Figure size 640x480 with 1 Axes>"
            ],
            "image/png": "[encoded data removed]"
          },
          "metadata": {}
        }
      ],
      "source": [
        "prior.plot(label='prior', color='C5')\n",
        "posterior1.plot(label='posterior', color='C4')\n",
        "decorate_bowls('Posterior after one vanilla cookie')"
      ]
    },
    {
      "cell_type": "markdown",
      "metadata": {
        "id": "p86DVgZLN5Tz"
      },
      "source": [
        "The posterior probability of Bowl 0 is 0 because it contains no vanilla cookies.\n",
        "The posterior probability of Bowl 100 is the highest because it contains the most vanilla cookies.\n",
        "In between, the shape of the posterior distribution is a line because the likelihoods are proportional to the bowl numbers.\n",
        "\n",
        "Now suppose we put the cookie back, draw again from the same bowl, and get another vanilla cookie.\n",
        "Here's the update after the second cookie:"
      ]
    },
    {
      "cell_type": "code",
      "execution_count": 30,
      "metadata": {
        "execution": {
          "iopub.execute_input": "2021-04-16T19:35:13.493905Z",
          "iopub.status.busy": "2021-04-16T19:35:13.493399Z",
          "iopub.status.idle": "2021-04-16T19:35:13.497012Z",
          "shell.execute_reply": "2021-04-16T19:35:13.497425Z"
        },
        "tags": [],
        "colab": {
          "base_uri": "https://localhost:8080/"
        },
        "id": "XHG3wkZKN5Tz",
        "outputId": "c3768739-08e6-476f-cc17-66b9fea8252e"
      },
      "outputs": [
        {
          "output_type": "execute_result",
          "data": {
            "text/plain": [
              "0.6699999999999999"
            ]
          },
          "metadata": {},
          "execution_count": 30
        }
      ],
      "source": [
        "# the question is why the distribution of posterior1 changed at all\n",
        "# if each event is independent than the probability should be the same (freqist?)\n",
        "# posteria prior is all bowels are equal (1/101)\n",
        "# after picking up a vanilla ... the posterior is that it is picked up from 1 of the bowels varies\n",
        "# 0 and mostly likely bowel 100 still based on understanding of the vanilla distrubtion (in my mind if you like to)\n",
        "\n",
        "# now we put it back and draw from the same bowel what is the bowel number\n",
        "# we have 2 vanilla and hence even more likely from the top number bowels than the lower number ...\n",
        "\n",
        "posterior2 = posterior1 * likelihood_vanilla\n",
        "posterior2.normalize()"
      ]
    },
    {
      "cell_type": "markdown",
      "metadata": {
        "id": "ss3KhiwrN5Tz"
      },
      "source": [
        "And here's what the posterior distribution looks like."
      ]
    },
    {
      "cell_type": "code",
      "execution_count": 33,
      "metadata": {
        "execution": {
          "iopub.execute_input": "2021-04-16T19:35:13.520648Z",
          "iopub.status.busy": "2021-04-16T19:35:13.513566Z",
          "iopub.status.idle": "2021-04-16T19:35:13.640728Z",
          "shell.execute_reply": "2021-04-16T19:35:13.640354Z"
        },
        "tags": [],
        "colab": {
          "base_uri": "https://localhost:8080/",
          "height": 487
        },
        "id": "iqfJf0NyN5Tz",
        "outputId": "04f9379d-e4f9-40a9-97e4-00a777444b0c"
      },
      "outputs": [
        {
          "output_type": "display_data",
          "data": {
            "text/plain": [
              "<Figure size 640x480 with 1 Axes>"
            ],
            "image/png": "[encoded data removed]"
          },
          "metadata": {}
        }
      ],
      "source": [
        "posterior1.plot(label='posterior1', color='C2')\n",
        "posterior2.plot(label='posterior2', color='C4')\n",
        "decorate_bowls('Posterior after two vanilla cookies')\n",
        "\n",
        "# cf the last one the possibility it is from lower bowel is lower than the straight line in diagrame 1\n",
        "# but the possibility of the higher one is higher and hence the curve might be"
      ]
    },
    {
      "cell_type": "markdown",
      "metadata": {
        "id": "qeazV-xCN5Tz"
      },
      "source": [
        "After two vanilla cookies, the high-numbered bowls have the highest posterior probabilities because they contain the most vanilla cookies; the low-numbered bowls have the lowest probabilities.\n",
        "\n",
        "But suppose we (same as before put it back and draw from the same bowel) again and get a chocolate cookie.\n",
        "Here's the update:"
      ]
    },
    {
      "cell_type": "code",
      "execution_count": 34,
      "metadata": {
        "execution": {
          "iopub.execute_input": "2021-04-16T19:35:13.645875Z",
          "iopub.status.busy": "2021-04-16T19:35:13.645126Z",
          "iopub.status.idle": "2021-04-16T19:35:13.650340Z",
          "shell.execute_reply": "2021-04-16T19:35:13.649962Z"
        },
        "tags": [],
        "colab": {
          "base_uri": "https://localhost:8080/"
        },
        "id": "wA68ZOcEN5Tz",
        "outputId": "b201a3b5-a2f1-46f1-861e-acac5dcc0f68"
      },
      "outputs": [
        {
          "output_type": "execute_result",
          "data": {
            "text/plain": [
              "0.2462686567164179"
            ]
          },
          "metadata": {},
          "execution_count": 34
        }
      ],
      "source": [
        "\n",
        "\n",
        "likelihood_chocolate = 1 - hypos/100\n",
        "\n",
        "posterior3 = posterior2 * likelihood_chocolate\n",
        "posterior3.normalize()"
      ]
    },
    {
      "cell_type": "markdown",
      "metadata": {
        "id": "RuWFHuCgN5Tz"
      },
      "source": [
        "And here's the posterior distribution."
      ]
    },
    {
      "cell_type": "code",
      "execution_count": 35,
      "metadata": {
        "execution": {
          "iopub.execute_input": "2021-04-16T19:35:13.684232Z",
          "iopub.status.busy": "2021-04-16T19:35:13.671117Z",
          "iopub.status.idle": "2021-04-16T19:35:13.798448Z",
          "shell.execute_reply": "2021-04-16T19:35:13.797816Z"
        },
        "tags": [],
        "colab": {
          "base_uri": "https://localhost:8080/",
          "height": 487
        },
        "id": "h9Z5mnJTN5Tz",
        "outputId": "9f0293db-9936-483b-ff69-7fbfa95dbf42"
      },
      "outputs": [
        {
          "output_type": "display_data",
          "data": {
            "text/plain": [
              "<Figure size 640x480 with 1 Axes>"
            ],
            "image/png": "[encoded data removed]"
          },
          "metadata": {}
        }
      ],
      "source": [
        "posterior1.plot(label='posterior1', color='C2')\n",
        "posterior2.plot(label='posterior2', color='C4')\n",
        "posterior3.plot(label='posterior3', color='C6')\n",
        "decorate_bowls('Posterior after 2 vanilla, 1 chocolate')"
      ]
    },
    {
      "cell_type": "markdown",
      "metadata": {
        "id": "j7CWIJl2N5Tz"
      },
      "source": [
        "Now Bowl 100 has been eliminated because it contains no chocolate cookies.\n",
        "But the high-numbered bowls are still more likely than the low-numbered bowls, because we have seen more vanilla cookies than chocolate.\n",
        "\n",
        "In fact, the peak of the posterior distribution is at Bowl 67, which corresponds to the fraction of vanilla cookies in the data we've observed, $2/3$.\n",
        "\n",
        "The quantity with the highest posterior probability is called the **MAP**, which stands for \"maximum a posteriori probability\", where \"a posteriori\" is unnecessary Latin for \"posterior\".\n",
        "\n",
        "To compute the MAP, we can use the `Series` method `idxmax`:"
      ]
    },
    {
      "cell_type": "code",
      "execution_count": 36,
      "metadata": {
        "execution": {
          "iopub.execute_input": "2021-04-16T19:35:13.802724Z",
          "iopub.status.busy": "2021-04-16T19:35:13.802249Z",
          "iopub.status.idle": "2021-04-16T19:35:13.806979Z",
          "shell.execute_reply": "2021-04-16T19:35:13.806610Z"
        },
        "colab": {
          "base_uri": "https://localhost:8080/"
        },
        "id": "ZZmDHayLN5T0",
        "outputId": "93345f0e-f16b-4861-ff40-821002d1329f"
      },
      "outputs": [
        {
          "output_type": "execute_result",
          "data": {
            "text/plain": [
              "67"
            ]
          },
          "metadata": {},
          "execution_count": 36
        }
      ],
      "source": [
        "posterior3.idxmax()"
      ]
    },
    {
      "cell_type": "markdown",
      "metadata": {
        "id": "ZO42e_QyN5T0"
      },
      "source": [
        "Or `Pmf` provides a more memorable name for the same thing:"
      ]
    },
    {
      "cell_type": "code",
      "execution_count": 37,
      "metadata": {
        "execution": {
          "iopub.execute_input": "2021-04-16T19:35:13.811076Z",
          "iopub.status.busy": "2021-04-16T19:35:13.810496Z",
          "iopub.status.idle": "2021-04-16T19:35:13.815123Z",
          "shell.execute_reply": "2021-04-16T19:35:13.815492Z"
        },
        "colab": {
          "base_uri": "https://localhost:8080/"
        },
        "id": "I0uKIlqWN5T0",
        "outputId": "8ab6bc9a-7be7-4025-e7b0-2b8a5c1e84de"
      },
      "outputs": [
        {
          "output_type": "execute_result",
          "data": {
            "text/plain": [
              "67"
            ]
          },
          "metadata": {},
          "execution_count": 37
        }
      ],
      "source": [
        "posterior3.max_prob()"
      ]
    },
    {
      "cell_type": "markdown",
      "metadata": {
        "id": "4c19Ms3pN5T0"
      },
      "source": [
        "As you might suspect, this example isn't really about bowls; it's about estimating proportions.\n",
        "Imagine that you have one bowl of cookies.\n",
        "You don't know what fraction of cookies are vanilla, but you think it is equally likely to be any fraction from 0 to 1.\n",
        "If you draw three cookies and two are vanilla, what proportion of cookies in the bowl do you think are vanilla?\n",
        "The posterior distribution we just computed is the answer to that question.\n",
        "\n",
        "We'll come back to estimating proportions in the next chapter.\n",
        "But first let's use a `Pmf` to solve the dice problem."
      ]
    },
    {
      "cell_type": "markdown",
      "metadata": {
        "id": "P4Dp5YdJN5T0"
      },
      "source": [
        "## The Dice Problem\n",
        "\n",
        "In the previous chapter we solved the dice problem using a Bayes table.\n",
        "Here's the statement of the problem:\n",
        "\n",
        "> Suppose I have a box with a 6-sided die, an 8-sided die, and a 12-sided die.\n",
        "> I choose one of the dice at random, roll it, and report that the outcome is a 1.\n",
        "> What is the probability that I chose the 6-sided die?\n",
        "\n",
        "Let's solve it using a `Pmf`.\n",
        "I'll use integers to represent the hypotheses:"
      ]
    },
    {
      "cell_type": "code",
      "execution_count": 46,
      "metadata": {
        "execution": {
          "iopub.execute_input": "2021-04-16T19:35:13.818821Z",
          "iopub.status.busy": "2021-04-16T19:35:13.818241Z",
          "iopub.status.idle": "2021-04-16T19:35:13.820082Z",
          "shell.execute_reply": "2021-04-16T19:35:13.820472Z"
        },
        "id": "TNxbdY9EN5T0"
      },
      "outputs": [],
      "source": [
        "hypos = [6, 8, 12]"
      ]
    },
    {
      "cell_type": "markdown",
      "metadata": {
        "id": "TnlpCLu6N5T0"
      },
      "source": [
        "We can make the prior distribution like this:\n"
      ]
    },
    {
      "cell_type": "code",
      "execution_count": 47,
      "metadata": {
        "execution": {
          "iopub.execute_input": "2021-04-16T19:35:13.826805Z",
          "iopub.status.busy": "2021-04-16T19:35:13.826279Z",
          "iopub.status.idle": "2021-04-16T19:35:13.828958Z",
          "shell.execute_reply": "2021-04-16T19:35:13.828592Z"
        },
        "colab": {
          "base_uri": "https://localhost:8080/",
          "height": 143
        },
        "id": "R5AIBGSSN5T0",
        "outputId": "5045b402-3cd6-4804-de49-6d1c0b8caf68"
      },
      "outputs": [
        {
          "output_type": "execute_result",
          "data": {
            "text/plain": [
              "6     0.333333\n",
              "8     0.333333\n",
              "12    0.333333\n",
              "dtype: float64"
            ],
            "text/html": [
              "<div>\n",
              "<style scoped>\n",
              "    .dataframe tbody tr th:only-of-type {\n",
              "        vertical-align: middle;\n",
              "    }\n",
              "\n",
              "    .dataframe tbody tr th {\n",
              "        vertical-align: top;\n",
              "    }\n",
              "\n",
              "    .dataframe thead th {\n",
              "        text-align: right;\n",
              "    }\n",
              "</style>\n",
              "<table border=\"1\" class=\"dataframe\">\n",
              "  <thead>\n",
              "    <tr style=\"text-align: right;\">\n",
              "      <th></th>\n",
              "      <th>probs</th>\n",
              "    </tr>\n",
              "  </thead>\n",
              "  <tbody>\n",
              "    <tr>\n",
              "      <th>6</th>\n",
              "      <td>0.333333</td>\n",
              "    </tr>\n",
              "    <tr>\n",
              "      <th>8</th>\n",
              "      <td>0.333333</td>\n",
              "    </tr>\n",
              "    <tr>\n",
              "      <th>12</th>\n",
              "      <td>0.333333</td>\n",
              "    </tr>\n",
              "  </tbody>\n",
              "</table>\n",
              "</div>"
            ]
          },
          "metadata": {},
          "execution_count": 47
        }
      ],
      "source": [
        "prior = Pmf(1/3, hypos)\n",
        "prior"
      ]
    },
    {
      "cell_type": "markdown",
      "metadata": {
        "id": "_DCeH8McN5T0"
      },
      "source": [
        "As in the previous example, the prior probability gets broadcast across the hypotheses.\n",
        "The `Pmf` object has two attributes:\n",
        "\n",
        "* `qs` contains the quantities in the distribution;\n",
        "\n",
        "* `ps` contains the corresponding probabilities."
      ]
    },
    {
      "cell_type": "code",
      "execution_count": 48,
      "metadata": {
        "execution": {
          "iopub.execute_input": "2021-04-16T19:35:13.832345Z",
          "iopub.status.busy": "2021-04-16T19:35:13.831824Z",
          "iopub.status.idle": "2021-04-16T19:35:13.834159Z",
          "shell.execute_reply": "2021-04-16T19:35:13.834524Z"
        },
        "colab": {
          "base_uri": "https://localhost:8080/"
        },
        "id": "GDIo9jalN5T1",
        "outputId": "15d19092-84a5-4f45-e862-5fd73f164674"
      },
      "outputs": [
        {
          "output_type": "execute_result",
          "data": {
            "text/plain": [
              "array([ 6,  8, 12])"
            ]
          },
          "metadata": {},
          "execution_count": 48
        }
      ],
      "source": [
        "prior.qs"
      ]
    },
    {
      "cell_type": "code",
      "execution_count": 49,
      "metadata": {
        "execution": {
          "iopub.execute_input": "2021-04-16T19:35:13.838296Z",
          "iopub.status.busy": "2021-04-16T19:35:13.837729Z",
          "iopub.status.idle": "2021-04-16T19:35:13.840670Z",
          "shell.execute_reply": "2021-04-16T19:35:13.840286Z"
        },
        "colab": {
          "base_uri": "https://localhost:8080/"
        },
        "id": "o26_0RCvN5T1",
        "outputId": "8c823782-c8eb-4aaa-8816-8c1d947b9b0a"
      },
      "outputs": [
        {
          "output_type": "execute_result",
          "data": {
            "text/plain": [
              "array([0.33333333, 0.33333333, 0.33333333])"
            ]
          },
          "metadata": {},
          "execution_count": 49
        }
      ],
      "source": [
        "prior.ps"
      ]
    },
    {
      "cell_type": "markdown",
      "metadata": {
        "id": "cWL91DPFN5T1"
      },
      "source": [
        "Now we're ready to do the update.\n",
        "Here's the likelihood of the data for each hypothesis."
      ]
    },
    {
      "cell_type": "code",
      "execution_count": 50,
      "metadata": {
        "execution": {
          "iopub.execute_input": "2021-04-16T19:35:13.844228Z",
          "iopub.status.busy": "2021-04-16T19:35:13.843723Z",
          "iopub.status.idle": "2021-04-16T19:35:13.845825Z",
          "shell.execute_reply": "2021-04-16T19:35:13.845372Z"
        },
        "id": "IXVrHfGHN5T1"
      },
      "outputs": [],
      "source": [
        "likelihood1 = 1/6, 1/8, 1/12"
      ]
    },
    {
      "cell_type": "markdown",
      "metadata": {
        "id": "4AGrlJGJN5T1"
      },
      "source": [
        "And here's the update."
      ]
    },
    {
      "cell_type": "code",
      "execution_count": 51,
      "metadata": {
        "execution": {
          "iopub.execute_input": "2021-04-16T19:35:13.852365Z",
          "iopub.status.busy": "2021-04-16T19:35:13.851589Z",
          "iopub.status.idle": "2021-04-16T19:35:13.855212Z",
          "shell.execute_reply": "2021-04-16T19:35:13.854647Z"
        },
        "colab": {
          "base_uri": "https://localhost:8080/",
          "height": 143
        },
        "id": "RGT2_H7yN5T1",
        "outputId": "48bd09d8-0c61-4f2e-a6c5-72b682b92392"
      },
      "outputs": [
        {
          "output_type": "execute_result",
          "data": {
            "text/plain": [
              "6     0.444444\n",
              "8     0.333333\n",
              "12    0.222222\n",
              "dtype: float64"
            ],
            "text/html": [
              "<div>\n",
              "<style scoped>\n",
              "    .dataframe tbody tr th:only-of-type {\n",
              "        vertical-align: middle;\n",
              "    }\n",
              "\n",
              "    .dataframe tbody tr th {\n",
              "        vertical-align: top;\n",
              "    }\n",
              "\n",
              "    .dataframe thead th {\n",
              "        text-align: right;\n",
              "    }\n",
              "</style>\n",
              "<table border=\"1\" class=\"dataframe\">\n",
              "  <thead>\n",
              "    <tr style=\"text-align: right;\">\n",
              "      <th></th>\n",
              "      <th>probs</th>\n",
              "    </tr>\n",
              "  </thead>\n",
              "  <tbody>\n",
              "    <tr>\n",
              "      <th>6</th>\n",
              "      <td>0.444444</td>\n",
              "    </tr>\n",
              "    <tr>\n",
              "      <th>8</th>\n",
              "      <td>0.333333</td>\n",
              "    </tr>\n",
              "    <tr>\n",
              "      <th>12</th>\n",
              "      <td>0.222222</td>\n",
              "    </tr>\n",
              "  </tbody>\n",
              "</table>\n",
              "</div>"
            ]
          },
          "metadata": {},
          "execution_count": 51
        }
      ],
      "source": [
        "posterior = prior * likelihood1\n",
        "posterior.normalize()\n",
        "posterior"
      ]
    },
    {
      "cell_type": "markdown",
      "metadata": {
        "id": "5Gj71D56N5T1"
      },
      "source": [
        "The posterior probability for the 6-sided die is $4/9$.\n",
        "\n",
        "Now suppose I roll the same die again and get a 7.\n",
        "Here are the likelihoods:"
      ]
    },
    {
      "cell_type": "code",
      "execution_count": 52,
      "metadata": {
        "execution": {
          "iopub.execute_input": "2021-04-16T19:35:13.859245Z",
          "iopub.status.busy": "2021-04-16T19:35:13.858594Z",
          "iopub.status.idle": "2021-04-16T19:35:13.860853Z",
          "shell.execute_reply": "2021-04-16T19:35:13.860402Z"
        },
        "id": "keyhEw35N5T1"
      },
      "outputs": [],
      "source": [
        "likelihood2 = 0, 1/8, 1/12"
      ]
    },
    {
      "cell_type": "markdown",
      "metadata": {
        "id": "sm_xOmw8N5T1"
      },
      "source": [
        "The likelihood for the 6-sided die is 0 because it is not possible to get a 7 on a 6-sided die.\n",
        "The other two likelihoods are the same as in the previous update.\n",
        "\n",
        "Here's the update:"
      ]
    },
    {
      "cell_type": "code",
      "execution_count": 53,
      "metadata": {
        "execution": {
          "iopub.execute_input": "2021-04-16T19:35:13.867636Z",
          "iopub.status.busy": "2021-04-16T19:35:13.867119Z",
          "iopub.status.idle": "2021-04-16T19:35:13.870075Z",
          "shell.execute_reply": "2021-04-16T19:35:13.869606Z"
        },
        "colab": {
          "base_uri": "https://localhost:8080/",
          "height": 143
        },
        "id": "j3WRQdbEN5T1",
        "outputId": "d940dca9-ac07-4a65-d9e0-d47baedbdd25"
      },
      "outputs": [
        {
          "output_type": "execute_result",
          "data": {
            "text/plain": [
              "6     0.000000\n",
              "8     0.692308\n",
              "12    0.307692\n",
              "dtype: float64"
            ],
            "text/html": [
              "<div>\n",
              "<style scoped>\n",
              "    .dataframe tbody tr th:only-of-type {\n",
              "        vertical-align: middle;\n",
              "    }\n",
              "\n",
              "    .dataframe tbody tr th {\n",
              "        vertical-align: top;\n",
              "    }\n",
              "\n",
              "    .dataframe thead th {\n",
              "        text-align: right;\n",
              "    }\n",
              "</style>\n",
              "<table border=\"1\" class=\"dataframe\">\n",
              "  <thead>\n",
              "    <tr style=\"text-align: right;\">\n",
              "      <th></th>\n",
              "      <th>probs</th>\n",
              "    </tr>\n",
              "  </thead>\n",
              "  <tbody>\n",
              "    <tr>\n",
              "      <th>6</th>\n",
              "      <td>0.000000</td>\n",
              "    </tr>\n",
              "    <tr>\n",
              "      <th>8</th>\n",
              "      <td>0.692308</td>\n",
              "    </tr>\n",
              "    <tr>\n",
              "      <th>12</th>\n",
              "      <td>0.307692</td>\n",
              "    </tr>\n",
              "  </tbody>\n",
              "</table>\n",
              "</div>"
            ]
          },
          "metadata": {},
          "execution_count": 53
        }
      ],
      "source": [
        "posterior *= likelihood2\n",
        "posterior.normalize()\n",
        "posterior"
      ]
    },
    {
      "cell_type": "markdown",
      "metadata": {
        "id": "cpq3gRPCN5T2"
      },
      "source": [
        "After rolling a 1 and a 7, the posterior probability of the 8-sided die is about 69%."
      ]
    },
    {
      "cell_type": "markdown",
      "metadata": {
        "id": "iRI8MQ7KN5T2"
      },
      "source": [
        "## Updating Dice\n",
        "\n",
        "The following function is a more general version of the update in the previous section:"
      ]
    },
    {
      "cell_type": "code",
      "execution_count": 54,
      "metadata": {
        "execution": {
          "iopub.execute_input": "2021-04-16T19:35:13.874004Z",
          "iopub.status.busy": "2021-04-16T19:35:13.873571Z",
          "iopub.status.idle": "2021-04-16T19:35:13.875415Z",
          "shell.execute_reply": "2021-04-16T19:35:13.875784Z"
        },
        "id": "KOIh5d7nN5T2"
      },
      "outputs": [],
      "source": [
        "def update_dice(pmf, data):\n",
        "    \"\"\"Update pmf based on new data.\"\"\"\n",
        "    hypos = pmf.qs\n",
        "    likelihood = 1 / hypos\n",
        "    impossible = (data > hypos)\n",
        "    likelihood[impossible] = 0\n",
        "    pmf *= likelihood\n",
        "    pmf.normalize()"
      ]
    },
    {
      "cell_type": "markdown",
      "metadata": {
        "id": "jRBEt0u3N5T2"
      },
      "source": [
        "The first parameter is a `Pmf` that represents the possible dice and their probabilities.\n",
        "The second parameter is the outcome of rolling a die.\n",
        "\n",
        "The first line selects quantities from the `Pmf` which represent the hypotheses.\n",
        "Since the hypotheses are integers, we can use them to compute the likelihoods.\n",
        "In general, if there are `n` sides on the die, the probability of any possible outcome is `1/n`.\n",
        "\n",
        "However, we have to check for impossible outcomes!\n",
        "If the outcome exceeds the hypothetical number of sides on the die, the probability of that outcome is 0.\n",
        "\n",
        "`impossible` is a Boolean `Series` that is `True` for each impossible outcome.\n",
        "I use it as an index into `likelihood` to set the corresponding probabilities to 0.\n",
        "\n",
        "Finally, I multiply `pmf` by the likelihoods and normalize.\n",
        "\n",
        "Here's how we can use this function to compute the updates in the previous section.\n",
        "I start with a fresh copy of the prior distribution:\n"
      ]
    },
    {
      "cell_type": "code",
      "execution_count": 55,
      "metadata": {
        "execution": {
          "iopub.execute_input": "2021-04-16T19:35:13.881390Z",
          "iopub.status.busy": "2021-04-16T19:35:13.880863Z",
          "iopub.status.idle": "2021-04-16T19:35:13.883304Z",
          "shell.execute_reply": "2021-04-16T19:35:13.883671Z"
        },
        "colab": {
          "base_uri": "https://localhost:8080/",
          "height": 143
        },
        "id": "Wc1JdGifN5T2",
        "outputId": "ae3404e4-c006-4edf-e358-3fecff77ac1d"
      },
      "outputs": [
        {
          "output_type": "execute_result",
          "data": {
            "text/plain": [
              "6     0.333333\n",
              "8     0.333333\n",
              "12    0.333333\n",
              "dtype: float64"
            ],
            "text/html": [
              "<div>\n",
              "<style scoped>\n",
              "    .dataframe tbody tr th:only-of-type {\n",
              "        vertical-align: middle;\n",
              "    }\n",
              "\n",
              "    .dataframe tbody tr th {\n",
              "        vertical-align: top;\n",
              "    }\n",
              "\n",
              "    .dataframe thead th {\n",
              "        text-align: right;\n",
              "    }\n",
              "</style>\n",
              "<table border=\"1\" class=\"dataframe\">\n",
              "  <thead>\n",
              "    <tr style=\"text-align: right;\">\n",
              "      <th></th>\n",
              "      <th>probs</th>\n",
              "    </tr>\n",
              "  </thead>\n",
              "  <tbody>\n",
              "    <tr>\n",
              "      <th>6</th>\n",
              "      <td>0.333333</td>\n",
              "    </tr>\n",
              "    <tr>\n",
              "      <th>8</th>\n",
              "      <td>0.333333</td>\n",
              "    </tr>\n",
              "    <tr>\n",
              "      <th>12</th>\n",
              "      <td>0.333333</td>\n",
              "    </tr>\n",
              "  </tbody>\n",
              "</table>\n",
              "</div>"
            ]
          },
          "metadata": {},
          "execution_count": 55
        }
      ],
      "source": [
        "pmf = prior.copy()\n",
        "pmf"
      ]
    },
    {
      "cell_type": "markdown",
      "metadata": {
        "id": "ZfvJS3VkN5T2"
      },
      "source": [
        "And use `update_dice` to do the updates."
      ]
    },
    {
      "cell_type": "code",
      "execution_count": 56,
      "metadata": {
        "execution": {
          "iopub.execute_input": "2021-04-16T19:35:13.890748Z",
          "iopub.status.busy": "2021-04-16T19:35:13.890070Z",
          "iopub.status.idle": "2021-04-16T19:35:13.893912Z",
          "shell.execute_reply": "2021-04-16T19:35:13.893421Z"
        },
        "colab": {
          "base_uri": "https://localhost:8080/",
          "height": 143
        },
        "id": "xNSCbwEYN5T2",
        "outputId": "3806e861-c087-4950-84dc-48a91e304283"
      },
      "outputs": [
        {
          "output_type": "execute_result",
          "data": {
            "text/plain": [
              "6     0.000000\n",
              "8     0.692308\n",
              "12    0.307692\n",
              "dtype: float64"
            ],
            "text/html": [
              "<div>\n",
              "<style scoped>\n",
              "    .dataframe tbody tr th:only-of-type {\n",
              "        vertical-align: middle;\n",
              "    }\n",
              "\n",
              "    .dataframe tbody tr th {\n",
              "        vertical-align: top;\n",
              "    }\n",
              "\n",
              "    .dataframe thead th {\n",
              "        text-align: right;\n",
              "    }\n",
              "</style>\n",
              "<table border=\"1\" class=\"dataframe\">\n",
              "  <thead>\n",
              "    <tr style=\"text-align: right;\">\n",
              "      <th></th>\n",
              "      <th>probs</th>\n",
              "    </tr>\n",
              "  </thead>\n",
              "  <tbody>\n",
              "    <tr>\n",
              "      <th>6</th>\n",
              "      <td>0.000000</td>\n",
              "    </tr>\n",
              "    <tr>\n",
              "      <th>8</th>\n",
              "      <td>0.692308</td>\n",
              "    </tr>\n",
              "    <tr>\n",
              "      <th>12</th>\n",
              "      <td>0.307692</td>\n",
              "    </tr>\n",
              "  </tbody>\n",
              "</table>\n",
              "</div>"
            ]
          },
          "metadata": {},
          "execution_count": 56
        }
      ],
      "source": [
        "update_dice(pmf, 1)\n",
        "update_dice(pmf, 7)\n",
        "pmf"
      ]
    },
    {
      "cell_type": "markdown",
      "metadata": {
        "id": "f0KvDojQN5T2"
      },
      "source": [
        "The result is the same.  We will see a version of this function in the next chapter."
      ]
    },
    {
      "cell_type": "markdown",
      "metadata": {
        "id": "AuzRnH4IN5T2"
      },
      "source": [
        "## Summary\n",
        "\n",
        "This chapter introduces the `empiricaldist` module, which provides `Pmf`, which we use to represent a set of hypotheses and their probabilities.\n",
        "\n",
        "`empiricaldist` is based on Pandas; the `Pmf` class inherits from the Pandas `Series` class and provides additional features specific to probability mass functions.\n",
        "We'll use `Pmf` and other classes from `empiricaldist` throughout the book because they simplify the code and make it more readable.\n",
        "But we could do the same things directly with Pandas.\n",
        "\n",
        "We use a `Pmf` to solve the cookie problem and the dice problem, which we saw in the previous chapter.\n",
        "With a `Pmf` it is easy to perform sequential updates with multiple pieces of data.\n",
        "\n",
        "We also solved a more general version of the cookie problem, with 101 bowls rather than two.\n",
        "Then we computed the MAP, which is the quantity with the highest posterior probability.\n",
        "\n",
        "In the next chapter, I'll introduce the Euro problem, and we will use the binomial distribution.\n",
        "And, at last, we will make the leap from using Bayes's Theorem to doing Bayesian statistics.\n",
        "\n",
        "But first you might want to work on the exercises."
      ]
    },
    {
      "cell_type": "markdown",
      "metadata": {
        "id": "4uZxRXGHN5T3"
      },
      "source": [
        "## Exercises"
      ]
    },
    {
      "cell_type": "markdown",
      "metadata": {
        "id": "bawhtQrCN5T3"
      },
      "source": [
        "**Exercise:** Suppose I have a box with a 6-sided die, an 8-sided die, and a 12-sided die.\n",
        "I choose one of the dice at random, roll it four times, and get 1, 3, 5, and 7.\n",
        "What is the probability that I chose the 8-sided die?\n",
        "\n",
        "You can use the `update_dice` function or do the update yourself."
      ]
    },
    {
      "cell_type": "code",
      "execution_count": null,
      "metadata": {
        "execution": {
          "iopub.execute_input": "2021-04-16T19:35:13.904691Z",
          "iopub.status.busy": "2021-04-16T19:35:13.904111Z",
          "iopub.status.idle": "2021-04-16T19:35:13.907043Z",
          "shell.execute_reply": "2021-04-16T19:35:13.906676Z"
        },
        "id": "4Q5__0xsN5T3"
      },
      "outputs": [],
      "source": [
        "# Solution goes here"
      ]
    },
    {
      "cell_type": "markdown",
      "metadata": {
        "id": "1lbgQmxDN5T3"
      },
      "source": [
        "**Exercise:** In the previous version of the dice problem, the prior probabilities are the same because the box contains one of each die.\n",
        "But suppose the box contains 1 die that is 4-sided, 2 dice that are 6-sided, 3 dice that are 8-sided, 4 dice that are 12-sided, and 5 dice that are 20-sided.\n",
        "I choose a die, roll it, and get a 7.\n",
        "What is the probability that I chose an 8-sided die?\n",
        "\n",
        "Hint: To make the prior distribution, call `Pmf` with two parameters."
      ]
    },
    {
      "cell_type": "code",
      "execution_count": null,
      "metadata": {
        "execution": {
          "iopub.execute_input": "2021-04-16T19:35:13.914938Z",
          "iopub.status.busy": "2021-04-16T19:35:13.914323Z",
          "iopub.status.idle": "2021-04-16T19:35:13.916995Z",
          "shell.execute_reply": "2021-04-16T19:35:13.917367Z"
        },
        "id": "Sdn4nxu-N5T3"
      },
      "outputs": [],
      "source": [
        "# Solution goes here"
      ]
    },
    {
      "cell_type": "markdown",
      "metadata": {
        "id": "NoNDS-WyN5T3"
      },
      "source": [
        "**Exercise:** Suppose I have two sock drawers.\n",
        "One contains equal numbers of black and white socks.\n",
        "The other contains equal numbers of red, green, and blue socks.\n",
        "Suppose I choose a drawer at random, choose two socks at random, and I tell you that I got a matching pair.\n",
        "What is the probability that the socks are white?\n",
        "\n",
        "For simplicity, let's assume that there are so many socks in both drawers that removing one sock makes a negligible change to the proportions."
      ]
    },
    {
      "cell_type": "code",
      "execution_count": null,
      "metadata": {
        "execution": {
          "iopub.execute_input": "2021-04-16T19:35:13.925514Z",
          "iopub.status.busy": "2021-04-16T19:35:13.924848Z",
          "iopub.status.idle": "2021-04-16T19:35:13.927865Z",
          "shell.execute_reply": "2021-04-16T19:35:13.927501Z"
        },
        "id": "kgIE9shWN5T3"
      },
      "outputs": [],
      "source": [
        "# Solution goes here"
      ]
    },
    {
      "cell_type": "code",
      "execution_count": null,
      "metadata": {
        "execution": {
          "iopub.execute_input": "2021-04-16T19:35:13.931373Z",
          "iopub.status.busy": "2021-04-16T19:35:13.930918Z",
          "iopub.status.idle": "2021-04-16T19:35:13.933340Z",
          "shell.execute_reply": "2021-04-16T19:35:13.933685Z"
        },
        "id": "WKbCefbcN5T3"
      },
      "outputs": [],
      "source": [
        "# Solution goes here"
      ]
    },
    {
      "cell_type": "markdown",
      "metadata": {
        "id": "dVT6UFxVN5T3"
      },
      "source": [
        "**Exercise:** Here's a problem from [Bayesian Data Analysis](http://www.stat.columbia.edu/~gelman/book/):\n",
        "\n",
        "> Elvis Presley had a twin brother (who died at birth). What is the probability that Elvis was an identical twin?\n",
        "\n",
        "Hint: In 1935, about 2/3 of twins were fraternal and 1/3 were identical."
      ]
    },
    {
      "cell_type": "code",
      "execution_count": null,
      "metadata": {
        "execution": {
          "iopub.execute_input": "2021-04-16T19:35:13.942870Z",
          "iopub.status.busy": "2021-04-16T19:35:13.942005Z",
          "iopub.status.idle": "2021-04-16T19:35:13.950507Z",
          "shell.execute_reply": "2021-04-16T19:35:13.950906Z"
        },
        "id": "SwIvhqkiN5T3"
      },
      "outputs": [],
      "source": [
        "# Solution goes here"
      ]
    },
    {
      "cell_type": "code",
      "execution_count": null,
      "metadata": {
        "execution": {
          "iopub.execute_input": "2021-04-16T19:35:13.957464Z",
          "iopub.status.busy": "2021-04-16T19:35:13.956748Z",
          "iopub.status.idle": "2021-04-16T19:35:13.959501Z",
          "shell.execute_reply": "2021-04-16T19:35:13.959878Z"
        },
        "id": "fF1_JhZUN5T4"
      },
      "outputs": [],
      "source": [
        "# Solution goes here"
      ]
    },
    {
      "cell_type": "code",
      "execution_count": null,
      "metadata": {
        "execution": {
          "iopub.execute_input": "2021-04-16T19:35:13.967573Z",
          "iopub.status.busy": "2021-04-16T19:35:13.966835Z",
          "iopub.status.idle": "2021-04-16T19:35:13.970002Z",
          "shell.execute_reply": "2021-04-16T19:35:13.969457Z"
        },
        "id": "gcKczlvMN5T4"
      },
      "outputs": [],
      "source": [
        "# Solution goes here"
      ]
    }
  ],
  "metadata": {
    "celltoolbar": "Tags",
    "kernelspec": {
      "display_name": "Python 3 (ipykernel)",
      "language": "python",
      "name": "python3"
    },
    "language_info": {
      "codemirror_mode": {
        "name": "ipython",
        "version": 3
      },
      "file_extension": ".py",
      "mimetype": "text/x-python",
      "name": "python",
      "nbconvert_exporter": "python",
      "pygments_lexer": "ipython3",
      "version": "3.9.12"
    },
    "colab": {
      "provenance": [],
      "include_colab_link": true
    }
  },
  "nbformat": 4,
  "nbformat_minor": 0
}